{
 "cells": [
  {
   "cell_type": "code",
   "execution_count": null,
   "id": "229683ed-750c-4a8d-8558-f2e175e3ba27",
   "metadata": {},
   "outputs": [],
   "source": [
    "import sys\n",
    "import os\n",
    "sys.path.extend(['Fyler', 'EvalFyler', 'Lib', 'Codes'])"
   ]
  },
  {
   "cell_type": "code",
   "execution_count": null,
   "id": "0ee430d5-bdc7-44b0-bcf1-42cc5b9ce669",
   "metadata": {},
   "outputs": [],
   "source": [
    "# Set environment variables\n",
    "keep_defaults = False\n",
    "def set_vars(key, value):\n",
    "    if keep_defaults:\n",
    "        return os.environ.setdefault(key, value)\n",
    "    else:\n",
    "        os.environ[key] = value\n",
    "        return os.environ[key]\n",
    "\n",
    "############################################################\n",
    "# EDIT THIS STRING to point to your local ACHD mount path. #\n",
    "############################################################\n",
    "print(set_vars('ACHD', '/home/tmill/mnt/ACHD'))\n",
    "\n",
    "print(set_vars('DATA_ROOT', '/home/tmill/mnt/ACHD/tim_ACHD/data'))\n",
    "\n",
    "print(set_vars('DOWNSTREAM', '/home/tmill/mnt/ACHD/angus_ACHD/datasets/pretrained_downstream/datasets_corrected_stratified/'))\n",
    "#print(os.environ['DOWNSTREAM'])"
   ]
  },
  {
   "cell_type": "code",
   "execution_count": null,
   "id": "89c2f51c-31d3-4d80-b56b-d1b7f7e73383",
   "metadata": {},
   "outputs": [],
   "source": [
    "from EvalFyler import fyler_fextract"
   ]
  },
  {
   "cell_type": "code",
   "execution_count": null,
   "id": "0247ea08-25d5-4e33-8498-66f04cd37c97",
   "metadata": {},
   "outputs": [],
   "source": [
    "# Get downstream config\n",
    "example_downstream_cfg_path = 'example_cfgs/experiment-cc-TGA_cnlpt-rest.cfg'\n",
    "with open(example_downstream_cfg_path, 'r', encoding='utf8') as dcfg_fd:\n",
    "    print(dcfg_fd.read())"
   ]
  },
  {
   "cell_type": "code",
   "execution_count": null,
   "id": "10db3f35-9a90-4124-babb-392bade3cd4c",
   "metadata": {},
   "outputs": [],
   "source": [
    "# Downstream classifier training\n",
    "_ = fyler_fextract.train_model(\n",
    "    gpu=-1, \n",
    "    model_class=\"cnlpt_rest\",\n",
    "    model_dir=\"models\",\n",
    "    out_dir=None, \n",
    "    cfg_path=example_downstream_cfg_path,\n",
    ")"
   ]
  },
  {
   "cell_type": "code",
   "execution_count": null,
   "id": "78911b5d-0e27-4484-9c63-fdcfa2ee33a4",
   "metadata": {},
   "outputs": [],
   "source": [
    "import configparser\n",
    "import json\n",
    "\n",
    "\n",
    "cfg_fn = 'example_cfgs/experiment-cc-TGA_cnlpt-rest.cfg'\n",
    "cfg = configparser.ConfigParser()\n",
    "cfg.read(cfg_fn)\n",
    "print(cfg.get('model', 'param_grid'))\n",
    "json.loads(cfg.get('model', 'param_grid'))\n"
   ]
  },
  {
   "cell_type": "markdown",
   "id": "6c06e171-d75a-418d-90c5-57f22e3e25e3",
   "metadata": {
    "tags": []
   },
   "source": [
    "#### What this looks like at the batch level:\n",
    "\n",
    "```sh\n",
    "$ # generate the different configurations for the encoders and the downstream tasks using base config files\n",
    "$ # gen_experiments.py currently has the phenotypes, window sizes, and minimum count parameter grid hard-coded\n",
    "$ python Fyler/gen_experiments.py pretrain \\\n",
    "    path/to/base_config.cfg \\\n",
    "    path/to/cfgs\n",
    "$ python Fyler/gen_experiments.py fextract \\\n",
    "    path/to/downstream/base_config.cfg \\\n",
    "    path/to/downstream/cfgs\n",
    "$ # generate the data into the directory specified in the config file\n",
    "$ python Fyler/experiments.py data \\\n",
    "    path/to/cfgs \\\n",
    "    --exclude path/to/excluded-cfgs.txt \\\n",
    "    -p num_cores \\\n",
    "    -o path/to/data/log/dir\n",
    "$ # train Fyler encoders\n",
    "$ python Fyler/fyler_bow.py batch \\\n",
    "    path/to/cfgs \\\n",
    "    path/to/data/dirs \\\n",
    "    path/to/fyler/encoders \\\n",
    "    --exclude path/to/excluded-downstream-cfgs.txt \\\n",
    "    -g num_gpus \\\n",
    "    -o path/to/fyler/log/dir\n",
    "$ # train downstream classifiers\n",
    "$ python EvalFyler/fyler_fextract.py batch \\\n",
    "    path/to/downstream/cfgs \\\n",
    "    path/to/fyler/encoders \\\n",
    "    --model_class fyler \\\n",
    "    --exclude path/to/excluded-downstream-cfgs.txt \\\n",
    "    -g num_gpus \\\n",
    "    -o path/to/downstream/log/dir\n",
    "```"
   ]
  }
 ],
 "metadata": {
  "kernelspec": {
   "display_name": "cnlpt",
   "language": "python",
   "name": "cnlpt"
  },
  "language_info": {
   "codemirror_mode": {
    "name": "ipython",
    "version": 3
   },
   "file_extension": ".py",
   "mimetype": "text/x-python",
   "name": "python",
   "nbconvert_exporter": "python",
   "pygments_lexer": "ipython3",
   "version": "3.8.13"
  },
  "widgets": {
   "application/vnd.jupyter.widget-state+json": {
    "state": {},
    "version_major": 2,
    "version_minor": 0
   }
  }
 },
 "nbformat": 4,
 "nbformat_minor": 5
}
